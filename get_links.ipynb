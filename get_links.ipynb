{
  "nbformat": 4,
  "nbformat_minor": 0,
  "metadata": {
    "colab": {
      "provenance": [],
      "mount_file_id": "1Npzxk0Hx3wcTaV0DLRnF_6GwLBz6eyVP",
      "authorship_tag": "ABX9TyPG0qQbB8fnZ+dY/Su0SEJh",
      "include_colab_link": true
    },
    "kernelspec": {
      "name": "python3",
      "display_name": "Python 3"
    },
    "language_info": {
      "name": "python"
    }
  },
  "cells": [
    {
      "cell_type": "markdown",
      "metadata": {
        "id": "view-in-github",
        "colab_type": "text"
      },
      "source": [
        "<a href=\"https://colab.research.google.com/github/gabrielhdsg/links-colab/blob/main/get_links.ipynb\" target=\"_parent\"><img src=\"https://colab.research.google.com/assets/colab-badge.svg\" alt=\"Open In Colab\"/></a>"
      ]
    },
    {
      "cell_type": "markdown",
      "source": [
        "**Pega links de um arquivo e criar um csv com a frequência de cada domínio**"
      ],
      "metadata": {
        "id": "Qd3Yc8lEe7ev"
      }
    },
    {
      "cell_type": "code",
      "source": [
        "pip install dask"
      ],
      "metadata": {
        "colab": {
          "base_uri": "https://localhost:8080/"
        },
        "id": "VWKGPmpTgkmL",
        "outputId": "fadbc074-9366-481f-aa78-4f31b5bd77ba"
      },
      "execution_count": null,
      "outputs": [
        {
          "output_type": "stream",
          "name": "stdout",
          "text": [
            "Looking in indexes: https://pypi.org/simple, https://us-python.pkg.dev/colab-wheels/public/simple/\n",
            "Requirement already satisfied: dask in /usr/local/lib/python3.9/dist-packages (2022.2.1)\n",
            "Requirement already satisfied: pyyaml>=5.3.1 in /usr/local/lib/python3.9/dist-packages (from dask) (6.0)\n",
            "Requirement already satisfied: fsspec>=0.6.0 in /usr/local/lib/python3.9/dist-packages (from dask) (2023.3.0)\n",
            "Requirement already satisfied: packaging>=20.0 in /usr/local/lib/python3.9/dist-packages (from dask) (23.0)\n",
            "Requirement already satisfied: toolz>=0.8.2 in /usr/local/lib/python3.9/dist-packages (from dask) (0.12.0)\n",
            "Requirement already satisfied: cloudpickle>=1.1.1 in /usr/local/lib/python3.9/dist-packages (from dask) (2.2.1)\n",
            "Requirement already satisfied: partd>=0.3.10 in /usr/local/lib/python3.9/dist-packages (from dask) (1.3.0)\n",
            "Requirement already satisfied: locket in /usr/local/lib/python3.9/dist-packages (from partd>=0.3.10->dask) (1.0.0)\n"
          ]
        }
      ]
    },
    {
      "cell_type": "code",
      "source": [
        "from dask import dataframe as dd"
      ],
      "metadata": {
        "id": "v2qEcbj0g3E1"
      },
      "execution_count": null,
      "outputs": []
    },
    {
      "cell_type": "code",
      "source": [
        "import re"
      ],
      "metadata": {
        "id": "w9HhELgdkx33"
      },
      "execution_count": null,
      "outputs": []
    },
    {
      "cell_type": "code",
      "source": [
        "from urllib.parse import urlparse"
      ],
      "metadata": {
        "id": "oLd1qn9UnLBe"
      },
      "execution_count": null,
      "outputs": []
    },
    {
      "cell_type": "code",
      "source": [
        "from collections import Counter"
      ],
      "metadata": {
        "id": "BOXr1Sm7pkba"
      },
      "execution_count": null,
      "outputs": []
    },
    {
      "cell_type": "markdown",
      "source": [
        "O arquivo csv abaixo foi filtrado pela data no banco de dados sql"
      ],
      "metadata": {
        "id": "UK-md7NogZly"
      }
    },
    {
      "cell_type": "code",
      "execution_count": null,
      "metadata": {
        "id": "5Szl71lyegPH"
      },
      "outputs": [],
      "source": [
        "messages = dd.read_csv(\"/content/output08-01-2023.csv\",on_bad_lines='warn',engine='python', usecols=['message'])\n",
        "messages['message'] = messages['message'].astype(str)"
      ]
    },
    {
      "cell_type": "markdown",
      "source": [
        "Pega todas mensagens que possui 'https'"
      ],
      "metadata": {
        "id": "lOmkWe0hg7oA"
      }
    },
    {
      "cell_type": "code",
      "source": [
        "full_messages = []\n",
        "for x in messages['message']:\n",
        "    if 'https' in x:\n",
        "        full_messages.append(x)"
      ],
      "metadata": {
        "id": "AkKjwp2Ag6hp",
        "colab": {
          "base_uri": "https://localhost:8080/"
        },
        "outputId": "5888a0b0-c07a-431d-d104-3a4d122c1236"
      },
      "execution_count": null,
      "outputs": [
        {
          "output_type": "stream",
          "name": "stderr",
          "text": [
            "Skipping line 47942: unexpected end of data\n"
          ]
        }
      ]
    },
    {
      "cell_type": "markdown",
      "source": [
        "Pegando apenas os links das mensagens"
      ],
      "metadata": {
        "id": "VvGrOXu6lMnD"
      }
    },
    {
      "cell_type": "code",
      "source": [
        "new_list=[]\n",
        "for line in full_messages:\n",
        "        link = re.findall(r'(https?://\\S+)', line)\n",
        "        if link:\n",
        "            new_list.append(link)"
      ],
      "metadata": {
        "id": "G4M90nOlkoF-"
      },
      "execution_count": null,
      "outputs": []
    },
    {
      "cell_type": "markdown",
      "source": [
        "Removendo caracteres especiais dos links"
      ],
      "metadata": {
        "id": "ndC_lWdZlPbN"
      }
    },
    {
      "cell_type": "code",
      "source": [
        "links=[]\n",
        "for line in new_list:\n",
        "        result = str(line).replace('[', '').replace(']', '').replace(\"'\", '')\n",
        "        links.append(result + \"\\n\")"
      ],
      "metadata": {
        "id": "y3Pw4kw-k-FR"
      },
      "execution_count": null,
      "outputs": []
    },
    {
      "cell_type": "markdown",
      "source": [
        "Pegar apenas os domínios dos links"
      ],
      "metadata": {
        "id": "Ze9PArvulmYR"
      }
    },
    {
      "cell_type": "code",
      "source": [
        "new_links=[]\n",
        "for line in links:\n",
        "        name = urlparse(line)\n",
        "        new_links.append(name.netloc)"
      ],
      "metadata": {
        "id": "qYdVxwW7lrpP"
      },
      "execution_count": null,
      "outputs": []
    },
    {
      "cell_type": "markdown",
      "source": [
        "Conta repetições nos nomes"
      ],
      "metadata": {
        "id": "6H-1UwlktNo6"
      }
    },
    {
      "cell_type": "code",
      "source": [
        "c = Counter(new_links)"
      ],
      "metadata": {
        "id": "C4bceznLneN_"
      },
      "execution_count": null,
      "outputs": []
    },
    {
      "cell_type": "markdown",
      "source": [
        "Separa em ordem decrescente"
      ],
      "metadata": {
        "id": "I9OZreOYtaM7"
      }
    },
    {
      "cell_type": "code",
      "source": [
        "c_sorted = c.most_common()"
      ],
      "metadata": {
        "id": "Cc6_qvhppzzb"
      },
      "execution_count": null,
      "outputs": []
    },
    {
      "cell_type": "markdown",
      "source": [
        "Cria dataframe com os os domínions e suas repetições"
      ],
      "metadata": {
        "id": "vm9BozEptlb8"
      }
    },
    {
      "cell_type": "code",
      "source": [
        "df = pd.DataFrame(c_sorted,  columns=['Domínio', 'Compartilhamentos'])"
      ],
      "metadata": {
        "id": "zQxEEN3Ap0Zb"
      },
      "execution_count": null,
      "outputs": []
    },
    {
      "cell_type": "code",
      "source": [
        "df.to_excel('dominios_08-01-23.xlsx', index = False )"
      ],
      "metadata": {
        "id": "lYUwGVJbp2Lr"
      },
      "execution_count": null,
      "outputs": []
    }
  ]
}